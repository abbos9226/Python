{
 "cells": [
  {
   "cell_type": "code",
   "execution_count": 11,
   "metadata": {},
   "outputs": [
    {
     "name": "stdout",
     "output_type": "stream",
     "text": [
      "166666665000\n",
      "Task completed\n",
      "CPU times: total: 2.22 s\n",
      "Wall time: 2.02 s\n"
     ]
    }
   ],
   "source": [
    "%%time\n",
    "\n",
    "import threading\n",
    "\n",
    "sum_overall = 0\n",
    "def sum_nums(range_max):\n",
    "    global sum_overall\n",
    "    sum_overall += sum(range(range_max+1))\n",
    "\n",
    "n = 10_000\n",
    "\n",
    "threads = []\n",
    "for i in range(n):\n",
    "    thread = threading.Thread(target=sum_nums, args=(i, ))\n",
    "    threads.append(thread)\n",
    "    thread.start()\n",
    "\n",
    "\n",
    "for i in threads:\n",
    "    i.join()\n",
    "\n",
    "print(sum_overall)\n",
    "print(\"Task completed\")"
   ]
  },
  {
   "cell_type": "code",
   "execution_count": 12,
   "metadata": {},
   "outputs": [
    {
     "name": "stdout",
     "output_type": "stream",
     "text": [
      "166666665000\n",
      "Task completed\n",
      "CPU times: total: 375 ms\n",
      "Wall time: 383 ms\n"
     ]
    }
   ],
   "source": [
    "%%time\n",
    "\n",
    "import threading\n",
    "\n",
    "sum_overall = 0\n",
    "def sum_nums(range_max):\n",
    "    global sum_overall\n",
    "    sum_overall += sum(range(range_max+1))\n",
    "\n",
    "n = 10_000\n",
    "\n",
    "threads = []\n",
    "for i in range(n):\n",
    "    sum_nums(i)\n",
    "\n",
    "\n",
    "print(sum_overall)\n",
    "print(\"Task completed\")"
   ]
  },
  {
   "cell_type": "code",
   "execution_count": null,
   "metadata": {},
   "outputs": [
    {
     "data": {
      "text/plain": [
       "Traceback (most recent call last):\n",
       "  File \"c:\\Users\\Asus\\.vscode\\extensions\\ms-python.python-2025.0.0-win32-x64\\python_files\\python_server.py\", line 133, in exec_user_input\n",
       "    retval = callable_(user_input, user_globals)\n",
       "             ^^^^^^^^^^^^^^^^^^^^^^^^^^^^^^^^^^^\n",
       "  File \"<string>\", line 1\n",
       "    %%time\n",
       "    ^\n",
       "SyntaxError: invalid syntax\n",
       "\n"
      ]
     },
     "metadata": {},
     "output_type": "display_data"
    }
   ],
   "source": [
    "\n",
    "\n",
    "import threading\n",
    "\n",
    "sum_overall = 0\n",
    "def sum_nums(range_max):\n",
    "    global sum_overall\n",
    "    sum_overall += sum(range(range_max+1))\n",
    "\n",
    "n = 5\n",
    "\n",
    "threads = []\n",
    "for i in range(n):\n",
    "    thread = threading.Thread(target=sum_nums, args=(i, ))\n",
    "    threads.append(thread)\n",
    "    thread.start()\n",
    "\n",
    "\n",
    "for i in threads:\n",
    "    i.join()\n",
    "\n",
    "print(sum_overall)\n",
    "print(\"Task completed\")"
   ]
  },
  {
   "cell_type": "code",
   "execution_count": null,
   "metadata": {},
   "outputs": [],
   "source": [
    "import threading\n",
    "\n",
    "sum_overall = 0\n",
    "def sum_nums(range_max):\n",
    "    global sum_overall\n",
    "    sum_overall += sum(range(range_max+1))\n",
    "\n",
    "n = 5\n",
    "\n",
    "threads = []\n",
    "for i in range(n):\n",
    "    thread = threading.Thread(target=sum_nums, args=(i, ))\n",
    "    threads.append(thread)\n",
    "    thread.start()\n",
    "\n",
    "\n",
    "for i in threads:\n",
    "    i.join()\n",
    "\n",
    "print(sum_overall)\n",
    "print(\"Task completed\")"
   ]
  },
  {
   "cell_type": "code",
   "execution_count": 26,
   "metadata": {},
   "outputs": [
    {
     "name": "stdout",
     "output_type": "stream",
     "text": [
      "searched for url: https://www.goldenpages.uz/en/company/?Id=79085\n",
      "searched for url: https://www.goldenpages.uz/en/company/?Id=86885\n",
      "searched for url: https://www.goldenpages.uz/en/company/?Id=110475\n",
      "searched for url: https://www.goldenpages.uz/en/company/?Id=97022\n",
      "searched for url: https://www.goldenpages.uz/en/company/?Id=60982\n",
      "searched for url: https://www.goldenpages.uz/en/company/?Id=40213\n",
      "searched for url: https://www.goldenpages.uz/en/company/?Id=64118\n",
      "searched for url: https://www.goldenpages.uz/en/company/?Id=78572\n",
      "searched for url: https://www.goldenpages.uz/en/company/?Id=68986\n",
      "searched for url: https://www.goldenpages.uz/en/company/?Id=72398\n",
      "searched for url: https://www.goldenpages.uz/en/company/?Id=101069\n",
      "searched for url: https://www.goldenpages.uz/en/company/?Id=54258\n",
      "searched for url: https://www.goldenpages.uz/en/company/?Id=69752\n"
     ]
    }
   ],
   "source": [
    "import requests as r\n",
    "from bs4 import BeautifulSoup as bs\n",
    "import concurrent.futures\n",
    "\n",
    "url = 'https://www.goldenpages.uz/en/rubrics/?Id=105588'\n",
    "response = r.get(url)\n",
    "\n",
    "soup = bs(response.text, 'html.parser')\n",
    "companies = soup.select('h3.h3 > a')\n",
    "\n",
    "# print(companies)\n",
    "companies_url = []\n",
    "for company in companies:\n",
    "    companies_url.append('https://www.goldenpages.uz'+company['href'])\n",
    "\n",
    "# for url in companies_url:\n",
    "#     response = r.get(url)\n",
    "#     print(f'searched for url: {url}')\n",
    "\n",
    "def get_url(url):\n",
    "    response = r.get(url)\n",
    "    print(f'searched for url: {url}')\n",
    "\n",
    "with concurrent.futures.ThreadPoolExecutor(max_workers=10) as executer:\n",
    "    executer.map(get_url, companies_url)\n",
    "    "
   ]
  },
  {
   "cell_type": "code",
   "execution_count": null,
   "metadata": {},
   "outputs": [],
   "source": [
    "# Question 1: Reverse String\n",
    "# Write a Python program that prompts the user to enter a string and then prints the\n",
    "# reversed version of that string. For example, if the user enters \"Hello, World!\", the\n",
    "# program should output \"!dlroW ,olleH\". Ensure that your program handles the user's "
   ]
  },
  {
   "cell_type": "code",
   "execution_count": null,
   "metadata": {},
   "outputs": [],
   "source": [
    "# Question 2: Missing Number\n",
    "# You are given a list containing n distinct numbers taken from the range 0 to n. The\n",
    "# list has one number missing. Write a Python function to find and return the missing\n",
    "# number.\n",
    "# For example:\n",
    "# missing_number([3, 0, 1])\n",
    "# # Output: [2]\n",
    "# missing_number([9, 6, 4, 2, 3, 12, 5, 7, 0, 1])\n",
    "# # Output: [8, 10, 11]\n",
    "# Rules:\n",
    "# 1. The list will contain distinct integers.\n",
    "# 2. The missing number is guaranteed to be in the range 0 to n.\n",
    "# 3. The list can be of any length.\n"
   ]
  },
  {
   "cell_type": "code",
   "execution_count": 29,
   "metadata": {},
   "outputs": [
    {
     "name": "stdout",
     "output_type": "stream",
     "text": [
      "Given nums:  [3, 0, 1]\n",
      "Missing nums:  [2]\n"
     ]
    }
   ],
   "source": [
    "def find_missing_num(list_nums):\n",
    "    print('Given nums: ', list_nums)\n",
    "    max_num = max(list_nums)\n",
    "    fullset = set(range(max_num+1))\n",
    "    missing_list = list(fullset-set(list_nums))\n",
    "    print('Missing nums: ', missing_list)\n",
    "\n",
    "find_missing_num([3,0,1])"
   ]
  },
  {
   "cell_type": "code",
   "execution_count": null,
   "metadata": {},
   "outputs": [],
   "source": [
    "# Question 4: Prime Number Generator\n",
    "# Write a Python program that generates prime numbers up to a given.\n",
    "# Your program should:\n",
    "# 1. Prompt the user to enter a positive integer as the upper limit.\n",
    "# 2. Implement algorithm to find all prime numbers up to the specified limit.\n",
    "# 3. Display the list of prime numbers."
   ]
  },
  {
   "cell_type": "code",
   "execution_count": null,
   "metadata": {},
   "outputs": [
    {
     "data": {
      "text/plain": [
       "[1,\n",
       " 2,\n",
       " 3,\n",
       " 4,\n",
       " 5,\n",
       " 6,\n",
       " 7,\n",
       " 8,\n",
       " 9,\n",
       " 10,\n",
       " 11,\n",
       " 12,\n",
       " 13,\n",
       " 14,\n",
       " 15,\n",
       " 16,\n",
       " 17,\n",
       " 18,\n",
       " 19,\n",
       " 20,\n",
       " 21,\n",
       " 22,\n",
       " 23,\n",
       " 24,\n",
       " 25,\n",
       " 26,\n",
       " 27,\n",
       " 28,\n",
       " 29,\n",
       " 30]"
      ]
     },
     "execution_count": 39,
     "metadata": {},
     "output_type": "execute_result"
    }
   ],
   "source": [
    "\n",
    "\n",
    "\n",
    "is_prime(15)\n",
    "\n",
    "\n",
    "prime_number = [num for num in ]\n",
    "prime_number"
   ]
  },
  {
   "cell_type": "code",
   "execution_count": 44,
   "metadata": {},
   "outputs": [
    {
     "data": {
      "text/plain": [
       "[2,\n",
       " 3,\n",
       " 5,\n",
       " 7,\n",
       " 11,\n",
       " 13,\n",
       " 17,\n",
       " 19,\n",
       " 23,\n",
       " 29,\n",
       " 31,\n",
       " 37,\n",
       " 41,\n",
       " 43,\n",
       " 47,\n",
       " 53,\n",
       " 59,\n",
       " 61,\n",
       " 67,\n",
       " 71,\n",
       " 73,\n",
       " 79,\n",
       " 83,\n",
       " 89,\n",
       " 97]"
      ]
     },
     "execution_count": 44,
     "metadata": {},
     "output_type": "execute_result"
    }
   ],
   "source": [
    "\n",
    "def is_prime(n):\n",
    "    if n<2:\n",
    "        return False\n",
    "    for i in range(2, int(n**0.5)+1):\n",
    "        if n%i==0:\n",
    "            # print(n, i)\n",
    "            return False\n",
    "    return True\n",
    "\n",
    "given_number = 100\n",
    "\n",
    "list(filter(is_prime, range(1, given_number+1)))"
   ]
  }
 ],
 "metadata": {
  "kernelspec": {
   "display_name": "Python 3",
   "language": "python",
   "name": "python3"
  },
  "language_info": {
   "codemirror_mode": {
    "name": "ipython",
    "version": 3
   },
   "file_extension": ".py",
   "mimetype": "text/x-python",
   "name": "python",
   "nbconvert_exporter": "python",
   "pygments_lexer": "ipython3",
   "version": "3.13.1"
  }
 },
 "nbformat": 4,
 "nbformat_minor": 2
}
