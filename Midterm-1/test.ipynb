{
 "cells": [
  {
   "cell_type": "code",
   "execution_count": 22,
   "metadata": {},
   "outputs": [
    {
     "name": "stdout",
     "output_type": "stream",
     "text": [
      "dlrow ,olleH\n"
     ]
    }
   ],
   "source": [
    "#Question 1: Reverse String \n",
    "\n",
    "text=\"Hello, world\"\n",
    "reversed_text=''\n",
    "for a in text:\n",
    "    reversed_text=a+reversed_text\n",
    "print(reversed_text) "
   ]
  },
  {
   "cell_type": "code",
   "execution_count": 1,
   "metadata": {},
   "outputs": [],
   "source": [
    "#Question 2: Missing Number\n",
    "def missing_number(nums):\n",
    "    n = max(nums)  \n",
    "    full_set = set(range(n + 1))  \n",
    "    missing = list(full_set - set(nums))  \n",
    "    return missing if missing else [n + 1] \n"
   ]
  },
  {
   "cell_type": "code",
   "execution_count": 2,
   "metadata": {},
   "outputs": [
    {
     "name": "stdout",
     "output_type": "stream",
     "text": [
      "[2]\n",
      "[8, 10, 11]\n"
     ]
    }
   ],
   "source": [
    "print(missing_number([3, 0, 1]))  \n",
    "print(missing_number([9, 6, 4, 2, 3, 12, 5, 7, 0, 1])) "
   ]
  },
  {
   "cell_type": "code",
   "execution_count": 3,
   "metadata": {},
   "outputs": [],
   "source": [
    "def m_number(nums):\n",
    "    a = max(nums)  \n",
    "    full_set = set(range(a+ 1))  \n",
    "    missing = list(full_set - set(nums))  \n",
    "    return missing if missing else [a + 1] "
   ]
  },
  {
   "cell_type": "code",
   "execution_count": 4,
   "metadata": {},
   "outputs": [
    {
     "name": "stdout",
     "output_type": "stream",
     "text": [
      "[2]\n",
      "[8, 10, 11]\n"
     ]
    }
   ],
   "source": [
    "print(m_number([0,1,3]))  \n",
    "print(m_number([0,1,2,3,4,5,6,7,9,12]))  "
   ]
  },
  {
   "cell_type": "code",
   "execution_count": 5,
   "metadata": {},
   "outputs": [
    {
     "name": "stdout",
     "output_type": "stream",
     "text": [
      "2\n"
     ]
    }
   ],
   "source": [
    "#Question 3: Count vowels \n",
    "text=input(\"Enter word:\")\n",
    "count=0\n",
    "for a in text:\n",
    "    if a.lower() in ('a,e,u,i,o'):\n",
    "        count+=1 \n",
    "print(count)"
   ]
  },
  {
   "cell_type": "code",
   "execution_count": 11,
   "metadata": {},
   "outputs": [],
   "source": [
    "#Question 4: Prime Number Generator \n",
    "def prime_numbers(number):\n",
    "    return [num for num in range(1, number + 1) if prime(num)] "
   ]
  },
  {
   "cell_type": "code",
   "execution_count": 12,
   "metadata": {},
   "outputs": [
    {
     "ename": "TypeError",
     "evalue": "'int' object is not callable",
     "output_type": "error",
     "traceback": [
      "\u001b[1;31m---------------------------------------------------------------------------\u001b[0m",
      "\u001b[1;31mTypeError\u001b[0m                                 Traceback (most recent call last)",
      "Cell \u001b[1;32mIn[12], line 1\u001b[0m\n\u001b[1;32m----> 1\u001b[0m \u001b[38;5;28mprint\u001b[39m(\u001b[43mprime_numbers\u001b[49m\u001b[43m(\u001b[49m\u001b[38;5;241;43m10\u001b[39;49m\u001b[43m)\u001b[49m) \n\u001b[0;32m      2\u001b[0m \u001b[38;5;28mprint\u001b[39m(prime_numbers(\u001b[38;5;241m30\u001b[39m)) \n",
      "Cell \u001b[1;32mIn[11], line 3\u001b[0m, in \u001b[0;36mprime_numbers\u001b[1;34m(number)\u001b[0m\n\u001b[0;32m      2\u001b[0m \u001b[38;5;28;01mdef\u001b[39;00m\u001b[38;5;250m \u001b[39m\u001b[38;5;21mprime_numbers\u001b[39m(number):\n\u001b[1;32m----> 3\u001b[0m     \u001b[38;5;28;01mreturn\u001b[39;00m [i \u001b[38;5;28;01mfor\u001b[39;00m i \u001b[38;5;129;01min\u001b[39;00m \u001b[38;5;28mrange\u001b[39m(\u001b[38;5;241m1\u001b[39m, number \u001b[38;5;241m+\u001b[39m \u001b[38;5;241m1\u001b[39m) \u001b[38;5;28;01mif\u001b[39;00m \u001b[43mnumber\u001b[49m\u001b[43m(\u001b[49m\u001b[43mi\u001b[49m\u001b[43m)\u001b[49m]\n",
      "\u001b[1;31mTypeError\u001b[0m: 'int' object is not callable"
     ]
    }
   ],
   "source": [
    "print(prime_numbers(10)) \n",
    "print(prime_numbers(30)) "
   ]
  },
  {
   "cell_type": "code",
   "execution_count": 2,
   "metadata": {},
   "outputs": [],
   "source": [
    "#test\n",
    "def count_vowels(word):\n",
    "    wovel=(['a','e','u','i','o','A','E','U','I','O'])\n",
    "    count=0\n",
    "    if wovel in word:\n",
    "        count+=1\n",
    "    return count"
   ]
  },
  {
   "cell_type": "code",
   "execution_count": null,
   "metadata": {},
   "outputs": [],
   "source": []
  }
 ],
 "metadata": {
  "kernelspec": {
   "display_name": "Python 3",
   "language": "python",
   "name": "python3"
  },
  "language_info": {
   "codemirror_mode": {
    "name": "ipython",
    "version": 3
   },
   "file_extension": ".py",
   "mimetype": "text/x-python",
   "name": "python",
   "nbconvert_exporter": "python",
   "pygments_lexer": "ipython3",
   "version": "3.13.1"
  }
 },
 "nbformat": 4,
 "nbformat_minor": 2
}
