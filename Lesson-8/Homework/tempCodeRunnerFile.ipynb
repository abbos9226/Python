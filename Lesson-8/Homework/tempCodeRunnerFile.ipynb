with open('example.txt','r') as test:
    data=test.read()
    print(data)