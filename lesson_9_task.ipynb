{
 "cells": [
  {
   "cell_type": "code",
   "execution_count": 9,
   "metadata": {},
   "outputs": [],
   "source": [
    "class ball:\n",
    "    def __init__(self,type):\n",
    "        self.turi=type\n",
    "        if self.turi=='bowling':\n",
    "            print('it is not ball')\n",
    "        else:\n",
    "            print('Yes it is ball')\n",
    "   \n",
    "        "
   ]
  },
  {
   "cell_type": "code",
   "execution_count": 11,
   "metadata": {},
   "outputs": [
    {
     "name": "stdout",
     "output_type": "stream",
     "text": [
      "it is not ball\n"
     ]
    }
   ],
   "source": [
    "ball1=ball('bowling')\n"
   ]
  },
  {
   "cell_type": "code",
   "execution_count": 1,
   "metadata": {},
   "outputs": [],
   "source": [
    "class car:\n",
    "    def __init__(self,model, year, mark):\n",
    "        self.madeli=model\n",
    "        self.yili=year\n",
    "        self.markasi=mark\n",
    "    def info(self):\n",
    "        print(f' Modeli:{self.madeli} \\n Yili: {self.yili} \\n Markasi: {self.markasi}')\n",
    "        \n",
    "        "
   ]
  },
  {
   "cell_type": "code",
   "execution_count": 2,
   "metadata": {},
   "outputs": [
    {
     "name": "stdout",
     "output_type": "stream",
     "text": [
      " Modeli:Matiz \n",
      " Yili: 1996 \n",
      " Markasi: Daewoo\n"
     ]
    }
   ],
   "source": [
    "car1=car('Matiz',1996,'Daewoo')\n",
    "car1.info()"
   ]
  }
 ],
 "metadata": {
  "kernelspec": {
   "display_name": "Python 3",
   "language": "python",
   "name": "python3"
  },
  "language_info": {
   "codemirror_mode": {
    "name": "ipython",
    "version": 3
   },
   "file_extension": ".py",
   "mimetype": "text/x-python",
   "name": "python",
   "nbconvert_exporter": "python",
   "pygments_lexer": "ipython3",
   "version": "3.13.1"
  }
 },
 "nbformat": 4,
 "nbformat_minor": 2
}
