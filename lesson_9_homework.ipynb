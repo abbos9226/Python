{
 "cells": [
  {
   "cell_type": "code",
   "execution_count": 1,
   "metadata": {},
   "outputs": [],
   "source": [
    "#Problem 1: Define a class Car with attributes brand and year. Create an object and print its attributes\n",
    "\n",
    "class car:\n",
    "    def __init__(self,brand,year):\n",
    "        self.brandi=brand\n",
    "        self.yili=year\n",
    "    def print(self):\n",
    "        print(f'Brandi: {self.brandi} \\nYili: {self.yili}')\n"
   ]
  },
  {
   "cell_type": "code",
   "execution_count": 2,
   "metadata": {},
   "outputs": [
    {
     "name": "stdout",
     "output_type": "stream",
     "text": [
      "Brandi: Matiz \n",
      "Yili: 2005\n"
     ]
    }
   ],
   "source": [
    "car1=car('Matiz',2005)\n",
    "car1.print()"
   ]
  },
  {
   "cell_type": "code",
   "execution_count": 3,
   "metadata": {},
   "outputs": [],
   "source": [
    "#Problem 2: Create a class Person with a default constructor that sets name = \"John\" and age = 30.\n",
    "class person_info:\n",
    "    name='John'\n",
    "    age=30\n",
    "    def __init__(self,height,weight):\n",
    "        self.boyi=height\n",
    "        self.vazni=weight\n",
    "    def print(self):\n",
    "        print(f'ismi: {self.name} \\nYoshi:{self.age} \\nBo\\'yi:{self.boyi} \\nVazni:{self.vazni}')\n",
    "        "
   ]
  },
  {
   "cell_type": "code",
   "execution_count": 5,
   "metadata": {},
   "outputs": [
    {
     "name": "stdout",
     "output_type": "stream",
     "text": [
      "ismi: John \n",
      "Yoshi:30 \n",
      "Bo'yi:175 \n",
      "Vazni:75\n"
     ]
    }
   ],
   "source": [
    "person1=person_info(175,75)\n",
    "person1.print()"
   ]
  }
 ],
 "metadata": {
  "kernelspec": {
   "display_name": "Python 3",
   "language": "python",
   "name": "python3"
  },
  "language_info": {
   "codemirror_mode": {
    "name": "ipython",
    "version": 3
   },
   "file_extension": ".py",
   "mimetype": "text/x-python",
   "name": "python",
   "nbconvert_exporter": "python",
   "pygments_lexer": "ipython3",
   "version": "3.13.1"
  }
 },
 "nbformat": 4,
 "nbformat_minor": 2
}
